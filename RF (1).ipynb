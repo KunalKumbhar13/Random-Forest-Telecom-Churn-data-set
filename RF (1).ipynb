{
 "cells": [
  {
   "cell_type": "code",
   "execution_count": 1,
   "id": "05eb154a",
   "metadata": {},
   "outputs": [
    {
     "data": {
      "text/plain": [
       "<Figure size 1008x576 with 0 Axes>"
      ]
     },
     "execution_count": 1,
     "metadata": {},
     "output_type": "execute_result"
    },
    {
     "data": {
      "text/plain": [
       "<Figure size 1008x576 with 0 Axes>"
      ]
     },
     "metadata": {},
     "output_type": "display_data"
    }
   ],
   "source": [
    "import pandas as pd\n",
    "import numpy as np\n",
    "import matplotlib.pyplot as plt\n",
    "import seaborn as sns\n",
    "plt.figure(figsize=(14,8))"
   ]
  },
  {
   "cell_type": "code",
   "execution_count": 6,
   "id": "7c0e48c9",
   "metadata": {},
   "outputs": [
    {
     "data": {
      "text/html": [
       "<div>\n",
       "<style scoped>\n",
       "    .dataframe tbody tr th:only-of-type {\n",
       "        vertical-align: middle;\n",
       "    }\n",
       "\n",
       "    .dataframe tbody tr th {\n",
       "        vertical-align: top;\n",
       "    }\n",
       "\n",
       "    .dataframe thead th {\n",
       "        text-align: right;\n",
       "    }\n",
       "</style>\n",
       "<table border=\"1\" class=\"dataframe\">\n",
       "  <thead>\n",
       "    <tr style=\"text-align: right;\">\n",
       "      <th></th>\n",
       "      <th>customer_id</th>\n",
       "      <th>telecom_partner</th>\n",
       "      <th>gender</th>\n",
       "      <th>age</th>\n",
       "      <th>state</th>\n",
       "      <th>city</th>\n",
       "      <th>pincode</th>\n",
       "      <th>date_of_registration</th>\n",
       "      <th>num_dependents</th>\n",
       "      <th>estimated_salary</th>\n",
       "      <th>calls_made</th>\n",
       "      <th>sms_sent</th>\n",
       "      <th>data_used</th>\n",
       "      <th>churn</th>\n",
       "    </tr>\n",
       "  </thead>\n",
       "  <tbody>\n",
       "    <tr>\n",
       "      <th>0</th>\n",
       "      <td>1</td>\n",
       "      <td>Reliance Jio</td>\n",
       "      <td>F</td>\n",
       "      <td>25</td>\n",
       "      <td>Karnataka</td>\n",
       "      <td>Kolkata</td>\n",
       "      <td>755597</td>\n",
       "      <td>2020-01-01</td>\n",
       "      <td>4</td>\n",
       "      <td>124962</td>\n",
       "      <td>44</td>\n",
       "      <td>45</td>\n",
       "      <td>-361</td>\n",
       "      <td>0</td>\n",
       "    </tr>\n",
       "    <tr>\n",
       "      <th>1</th>\n",
       "      <td>2</td>\n",
       "      <td>Reliance Jio</td>\n",
       "      <td>F</td>\n",
       "      <td>55</td>\n",
       "      <td>Mizoram</td>\n",
       "      <td>Mumbai</td>\n",
       "      <td>125926</td>\n",
       "      <td>2020-01-01</td>\n",
       "      <td>2</td>\n",
       "      <td>130556</td>\n",
       "      <td>62</td>\n",
       "      <td>39</td>\n",
       "      <td>5973</td>\n",
       "      <td>0</td>\n",
       "    </tr>\n",
       "    <tr>\n",
       "      <th>2</th>\n",
       "      <td>3</td>\n",
       "      <td>Vodafone</td>\n",
       "      <td>F</td>\n",
       "      <td>57</td>\n",
       "      <td>Arunachal Pradesh</td>\n",
       "      <td>Delhi</td>\n",
       "      <td>423976</td>\n",
       "      <td>2020-01-01</td>\n",
       "      <td>0</td>\n",
       "      <td>148828</td>\n",
       "      <td>49</td>\n",
       "      <td>24</td>\n",
       "      <td>193</td>\n",
       "      <td>1</td>\n",
       "    </tr>\n",
       "    <tr>\n",
       "      <th>3</th>\n",
       "      <td>4</td>\n",
       "      <td>BSNL</td>\n",
       "      <td>M</td>\n",
       "      <td>46</td>\n",
       "      <td>Tamil Nadu</td>\n",
       "      <td>Kolkata</td>\n",
       "      <td>522841</td>\n",
       "      <td>2020-01-01</td>\n",
       "      <td>1</td>\n",
       "      <td>38722</td>\n",
       "      <td>80</td>\n",
       "      <td>25</td>\n",
       "      <td>9377</td>\n",
       "      <td>1</td>\n",
       "    </tr>\n",
       "    <tr>\n",
       "      <th>4</th>\n",
       "      <td>5</td>\n",
       "      <td>BSNL</td>\n",
       "      <td>F</td>\n",
       "      <td>26</td>\n",
       "      <td>Tripura</td>\n",
       "      <td>Delhi</td>\n",
       "      <td>740247</td>\n",
       "      <td>2020-01-01</td>\n",
       "      <td>2</td>\n",
       "      <td>55098</td>\n",
       "      <td>78</td>\n",
       "      <td>15</td>\n",
       "      <td>1393</td>\n",
       "      <td>0</td>\n",
       "    </tr>\n",
       "  </tbody>\n",
       "</table>\n",
       "</div>"
      ],
      "text/plain": [
       "   customer_id telecom_partner gender  age              state     city  \\\n",
       "0            1    Reliance Jio      F   25          Karnataka  Kolkata   \n",
       "1            2    Reliance Jio      F   55            Mizoram   Mumbai   \n",
       "2            3        Vodafone      F   57  Arunachal Pradesh    Delhi   \n",
       "3            4            BSNL      M   46         Tamil Nadu  Kolkata   \n",
       "4            5            BSNL      F   26            Tripura    Delhi   \n",
       "\n",
       "   pincode date_of_registration  num_dependents  estimated_salary  calls_made  \\\n",
       "0   755597           2020-01-01               4            124962          44   \n",
       "1   125926           2020-01-01               2            130556          62   \n",
       "2   423976           2020-01-01               0            148828          49   \n",
       "3   522841           2020-01-01               1             38722          80   \n",
       "4   740247           2020-01-01               2             55098          78   \n",
       "\n",
       "   sms_sent  data_used  churn  \n",
       "0        45       -361      0  \n",
       "1        39       5973      0  \n",
       "2        24        193      1  \n",
       "3        25       9377      1  \n",
       "4        15       1393      0  "
      ]
     },
     "execution_count": 6,
     "metadata": {},
     "output_type": "execute_result"
    }
   ],
   "source": [
    "data=pd.read_csv(\"telecom_churn.csv\")\n",
    "data.head()"
   ]
  },
  {
   "cell_type": "code",
   "execution_count": 7,
   "id": "b51bbba0",
   "metadata": {},
   "outputs": [
    {
     "name": "stdout",
     "output_type": "stream",
     "text": [
      "<class 'pandas.core.frame.DataFrame'>\n",
      "RangeIndex: 243553 entries, 0 to 243552\n",
      "Data columns (total 14 columns):\n",
      " #   Column                Non-Null Count   Dtype \n",
      "---  ------                --------------   ----- \n",
      " 0   customer_id           243553 non-null  int64 \n",
      " 1   telecom_partner       243553 non-null  object\n",
      " 2   gender                243553 non-null  object\n",
      " 3   age                   243553 non-null  int64 \n",
      " 4   state                 243553 non-null  object\n",
      " 5   city                  243553 non-null  object\n",
      " 6   pincode               243553 non-null  int64 \n",
      " 7   date_of_registration  243553 non-null  object\n",
      " 8   num_dependents        243553 non-null  int64 \n",
      " 9   estimated_salary      243553 non-null  int64 \n",
      " 10  calls_made            243553 non-null  int64 \n",
      " 11  sms_sent              243553 non-null  int64 \n",
      " 12  data_used             243553 non-null  int64 \n",
      " 13  churn                 243553 non-null  int64 \n",
      "dtypes: int64(9), object(5)\n",
      "memory usage: 26.0+ MB\n"
     ]
    }
   ],
   "source": [
    "data.info()"
   ]
  },
  {
   "cell_type": "code",
   "execution_count": 8,
   "id": "9ede6784",
   "metadata": {},
   "outputs": [
    {
     "data": {
      "text/html": [
       "<div>\n",
       "<style scoped>\n",
       "    .dataframe tbody tr th:only-of-type {\n",
       "        vertical-align: middle;\n",
       "    }\n",
       "\n",
       "    .dataframe tbody tr th {\n",
       "        vertical-align: top;\n",
       "    }\n",
       "\n",
       "    .dataframe thead th {\n",
       "        text-align: right;\n",
       "    }\n",
       "</style>\n",
       "<table border=\"1\" class=\"dataframe\">\n",
       "  <thead>\n",
       "    <tr style=\"text-align: right;\">\n",
       "      <th></th>\n",
       "      <th>customer_id</th>\n",
       "      <th>age</th>\n",
       "      <th>pincode</th>\n",
       "      <th>num_dependents</th>\n",
       "      <th>estimated_salary</th>\n",
       "      <th>calls_made</th>\n",
       "      <th>sms_sent</th>\n",
       "      <th>data_used</th>\n",
       "      <th>churn</th>\n",
       "    </tr>\n",
       "  </thead>\n",
       "  <tbody>\n",
       "    <tr>\n",
       "      <th>count</th>\n",
       "      <td>243553.000000</td>\n",
       "      <td>243553.000000</td>\n",
       "      <td>243553.000000</td>\n",
       "      <td>243553.000000</td>\n",
       "      <td>243553.000000</td>\n",
       "      <td>243553.000000</td>\n",
       "      <td>243553.000000</td>\n",
       "      <td>243553.000000</td>\n",
       "      <td>243553.000000</td>\n",
       "    </tr>\n",
       "    <tr>\n",
       "      <th>mean</th>\n",
       "      <td>121777.000000</td>\n",
       "      <td>46.077609</td>\n",
       "      <td>549501.270541</td>\n",
       "      <td>1.997500</td>\n",
       "      <td>85021.137839</td>\n",
       "      <td>49.010548</td>\n",
       "      <td>23.945404</td>\n",
       "      <td>4993.186025</td>\n",
       "      <td>0.200478</td>\n",
       "    </tr>\n",
       "    <tr>\n",
       "      <th>std</th>\n",
       "      <td>70307.839393</td>\n",
       "      <td>16.444029</td>\n",
       "      <td>259808.860574</td>\n",
       "      <td>1.414941</td>\n",
       "      <td>37508.963233</td>\n",
       "      <td>29.453556</td>\n",
       "      <td>14.733575</td>\n",
       "      <td>2942.019547</td>\n",
       "      <td>0.400359</td>\n",
       "    </tr>\n",
       "    <tr>\n",
       "      <th>min</th>\n",
       "      <td>1.000000</td>\n",
       "      <td>18.000000</td>\n",
       "      <td>100006.000000</td>\n",
       "      <td>0.000000</td>\n",
       "      <td>20000.000000</td>\n",
       "      <td>-10.000000</td>\n",
       "      <td>-5.000000</td>\n",
       "      <td>-987.000000</td>\n",
       "      <td>0.000000</td>\n",
       "    </tr>\n",
       "    <tr>\n",
       "      <th>25%</th>\n",
       "      <td>60889.000000</td>\n",
       "      <td>32.000000</td>\n",
       "      <td>324586.000000</td>\n",
       "      <td>1.000000</td>\n",
       "      <td>52585.000000</td>\n",
       "      <td>24.000000</td>\n",
       "      <td>11.000000</td>\n",
       "      <td>2490.000000</td>\n",
       "      <td>0.000000</td>\n",
       "    </tr>\n",
       "    <tr>\n",
       "      <th>50%</th>\n",
       "      <td>121777.000000</td>\n",
       "      <td>46.000000</td>\n",
       "      <td>548112.000000</td>\n",
       "      <td>2.000000</td>\n",
       "      <td>84990.000000</td>\n",
       "      <td>49.000000</td>\n",
       "      <td>24.000000</td>\n",
       "      <td>4987.000000</td>\n",
       "      <td>0.000000</td>\n",
       "    </tr>\n",
       "    <tr>\n",
       "      <th>75%</th>\n",
       "      <td>182665.000000</td>\n",
       "      <td>60.000000</td>\n",
       "      <td>774994.000000</td>\n",
       "      <td>3.000000</td>\n",
       "      <td>117488.000000</td>\n",
       "      <td>74.000000</td>\n",
       "      <td>36.000000</td>\n",
       "      <td>7493.000000</td>\n",
       "      <td>0.000000</td>\n",
       "    </tr>\n",
       "    <tr>\n",
       "      <th>max</th>\n",
       "      <td>243553.000000</td>\n",
       "      <td>74.000000</td>\n",
       "      <td>999987.000000</td>\n",
       "      <td>4.000000</td>\n",
       "      <td>149999.000000</td>\n",
       "      <td>108.000000</td>\n",
       "      <td>53.000000</td>\n",
       "      <td>10991.000000</td>\n",
       "      <td>1.000000</td>\n",
       "    </tr>\n",
       "  </tbody>\n",
       "</table>\n",
       "</div>"
      ],
      "text/plain": [
       "         customer_id            age        pincode  num_dependents  \\\n",
       "count  243553.000000  243553.000000  243553.000000   243553.000000   \n",
       "mean   121777.000000      46.077609  549501.270541        1.997500   \n",
       "std     70307.839393      16.444029  259808.860574        1.414941   \n",
       "min         1.000000      18.000000  100006.000000        0.000000   \n",
       "25%     60889.000000      32.000000  324586.000000        1.000000   \n",
       "50%    121777.000000      46.000000  548112.000000        2.000000   \n",
       "75%    182665.000000      60.000000  774994.000000        3.000000   \n",
       "max    243553.000000      74.000000  999987.000000        4.000000   \n",
       "\n",
       "       estimated_salary     calls_made       sms_sent      data_used  \\\n",
       "count     243553.000000  243553.000000  243553.000000  243553.000000   \n",
       "mean       85021.137839      49.010548      23.945404    4993.186025   \n",
       "std        37508.963233      29.453556      14.733575    2942.019547   \n",
       "min        20000.000000     -10.000000      -5.000000    -987.000000   \n",
       "25%        52585.000000      24.000000      11.000000    2490.000000   \n",
       "50%        84990.000000      49.000000      24.000000    4987.000000   \n",
       "75%       117488.000000      74.000000      36.000000    7493.000000   \n",
       "max       149999.000000     108.000000      53.000000   10991.000000   \n",
       "\n",
       "               churn  \n",
       "count  243553.000000  \n",
       "mean        0.200478  \n",
       "std         0.400359  \n",
       "min         0.000000  \n",
       "25%         0.000000  \n",
       "50%         0.000000  \n",
       "75%         0.000000  \n",
       "max         1.000000  "
      ]
     },
     "execution_count": 8,
     "metadata": {},
     "output_type": "execute_result"
    }
   ],
   "source": [
    "  data.describe()"
   ]
  },
  {
   "cell_type": "code",
   "execution_count": 9,
   "id": "d76079f9",
   "metadata": {},
   "outputs": [
    {
     "data": {
      "text/plain": [
       "customer_id             0\n",
       "telecom_partner         0\n",
       "gender                  0\n",
       "age                     0\n",
       "state                   0\n",
       "city                    0\n",
       "pincode                 0\n",
       "date_of_registration    0\n",
       "num_dependents          0\n",
       "estimated_salary        0\n",
       "calls_made              0\n",
       "sms_sent                0\n",
       "data_used               0\n",
       "churn                   0\n",
       "dtype: int64"
      ]
     },
     "execution_count": 9,
     "metadata": {},
     "output_type": "execute_result"
    }
   ],
   "source": [
    "data.isnull().sum()"
   ]
  },
  {
   "cell_type": "code",
   "execution_count": 10,
   "id": "bcda72c4",
   "metadata": {},
   "outputs": [
    {
     "data": {
      "text/plain": [
       "0    194726\n",
       "1     48827\n",
       "Name: churn, dtype: int64"
      ]
     },
     "execution_count": 10,
     "metadata": {},
     "output_type": "execute_result"
    }
   ],
   "source": [
    "data.churn.value_counts()"
   ]
  },
  {
   "cell_type": "code",
   "execution_count": 11,
   "id": "3ce7bfd2",
   "metadata": {},
   "outputs": [],
   "source": [
    "data=data.drop(\"customer_id\",axis=1)\n"
   ]
  },
  {
   "cell_type": "code",
   "execution_count": 47,
   "id": "6f058537",
   "metadata": {},
   "outputs": [
    {
     "data": {
      "image/png": "[encoded data removed]",
      "text/plain": [
       "<Figure size 864x720 with 16 Axes>"
      ]
     },
     "metadata": {
      "needs_background": "light"
     },
     "output_type": "display_data"
    }
   ],
   "source": [
    "# Histograms for numerical columns\n",
    "data.hist(figsize=(12, 10))\n",
    "plt.show()"
   ]
  },
  {
   "cell_type": "code",
   "execution_count": 14,
   "id": "9fa0acd7",
   "metadata": {},
   "outputs": [],
   "source": [
    "churn_data=data[data['churn']==1]['telecom_partner']\n",
    "non_churn_data=data[data['churn']==0]['telecom_partner']"
   ]
  },
  {
   "cell_type": "code",
   "execution_count": 15,
   "id": "d09fabe7",
   "metadata": {},
   "outputs": [
    {
     "data": {
      "text/plain": [
       "<AxesSubplot:ylabel='telecom_partner'>"
      ]
     },
     "execution_count": 15,
     "metadata": {},
     "output_type": "execute_result"
    },
    {
     "data": {
      "image/png": "[encoded data removed]",
      "text/plain": [
       "<Figure size 432x288 with 1 Axes>"
      ]
     },
     "metadata": {},
     "output_type": "display_data"
    }
   ],
   "source": [
    "df.telecom_partner.value_counts().plot.pie()"
   ]
  },
  {
   "cell_type": "code",
   "execution_count": 48,
   "id": "633a23a9",
   "metadata": {},
   "outputs": [
    {
     "data": {
      "text/plain": [
       "<AxesSubplot:ylabel='churn'>"
      ]
     },
     "execution_count": 48,
     "metadata": {},
     "output_type": "execute_result"
    },
    {
     "data": {
      "image/png": "[encoded data removed]",
      "text/plain": [
       "<Figure size 432x288 with 1 Axes>"
      ]
     },
     "metadata": {},
     "output_type": "display_data"
    }
   ],
   "source": [
    "data.churn.value_counts().plot.pie()\n"
   ]
  },
  {
   "cell_type": "markdown",
   "id": "38cf78f0",
   "metadata": {},
   "source": [
    "### here we see in above pie Daigram  there 0=Churn take nearly 75 % Area and rest 25% is for Churn 1"
   ]
  },
  {
   "cell_type": "code",
   "execution_count": 50,
   "id": "f378f481",
   "metadata": {},
   "outputs": [
    {
     "data": {
      "image/png": "[encoded data removed]",
      "text/plain": [
       "<Figure size 432x288 with 1 Axes>"
      ]
     },
     "metadata": {
      "needs_background": "light"
     },
     "output_type": "display_data"
    }
   ],
   "source": [
    "# Box plots for non numerical  columns\n",
    "sns.boxplot(data=data.drop(['estimated_salary','data_used'],axis=1), orient='h')\n",
    "plt.show()"
   ]
  },
  {
   "cell_type": "code",
   "execution_count": 51,
   "id": "a9c822a2",
   "metadata": {},
   "outputs": [
    {
     "data": {
      "image/png": "[encoded data removed]",
      "text/plain": [
       "<Figure size 432x288 with 1 Axes>"
      ]
     },
     "metadata": {
      "needs_background": "light"
     },
     "output_type": "display_data"
    }
   ],
   "source": [
    "# Box plots for numerical columns\n",
    "sns.boxplot(data=df[['estimated_salary','data_used']], orient='h')\n",
    "plt.show()"
   ]
  },
  {
   "cell_type": "code",
   "execution_count": 16,
   "id": "60d878fc",
   "metadata": {},
   "outputs": [
    {
     "data": {
      "text/plain": [
       "2             Vodafone\n",
       "3                 BSNL\n",
       "7                 BSNL\n",
       "10              Airtel\n",
       "16            Vodafone\n",
       "              ...     \n",
       "243523    Reliance Jio\n",
       "243527            BSNL\n",
       "243529    Reliance Jio\n",
       "243533    Reliance Jio\n",
       "243535            BSNL\n",
       "Name: telecom_partner, Length: 48827, dtype: object"
      ]
     },
     "execution_count": 16,
     "metadata": {},
     "output_type": "execute_result"
    }
   ],
   "source": [
    "churn_data"
   ]
  },
  {
   "cell_type": "code",
   "execution_count": 17,
   "id": "9a3dd650",
   "metadata": {},
   "outputs": [
    {
     "data": {
      "text/plain": [
       "['Airtel', 'Reliance Jio', 'Vodafone', 'BSNL']"
      ]
     },
     "execution_count": 17,
     "metadata": {},
     "output_type": "execute_result"
    }
   ],
   "source": [
    "company_names=list(churn_data.value_counts().keys())\n",
    "company_names"
   ]
  },
  {
   "cell_type": "code",
   "execution_count": 22,
   "id": "ad514ebd",
   "metadata": {},
   "outputs": [
    {
     "data": {
      "image/png": "[encoded data removed]",
      "text/plain": [
       "<Figure size 720x360 with 2 Axes>"
      ]
     },
     "metadata": {
      "needs_background": "light"
     },
     "output_type": "display_data"
    }
   ],
   "source": [
    "plt.figure(figsize=(10,5))\n",
    "sns.heatmap(data.corr(),annot=True)\n",
    "plt.title(\"co relation map\")\n",
    "plt.show()"
   ]
  },
  {
   "cell_type": "code",
   "execution_count": 23,
   "id": "4b1006e5",
   "metadata": {},
   "outputs": [],
   "source": [
    "from sklearn.preprocessing import LabelEncoder\n",
    "model=LabelEncoder()\n",
    "for i in data.columns:\n",
    "    if data[i].dtype==\"object\":\n",
    "        data[i]=model.fit_transform(data[i])"
   ]
  },
  {
   "cell_type": "code",
   "execution_count": 24,
   "id": "629ddc7d",
   "metadata": {},
   "outputs": [
    {
     "data": {
      "text/html": [
       "<div>\n",
       "<style scoped>\n",
       "    .dataframe tbody tr th:only-of-type {\n",
       "        vertical-align: middle;\n",
       "    }\n",
       "\n",
       "    .dataframe tbody tr th {\n",
       "        vertical-align: top;\n",
       "    }\n",
       "\n",
       "    .dataframe thead th {\n",
       "        text-align: right;\n",
       "    }\n",
       "</style>\n",
       "<table border=\"1\" class=\"dataframe\">\n",
       "  <thead>\n",
       "    <tr style=\"text-align: right;\">\n",
       "      <th></th>\n",
       "      <th>telecom_partner</th>\n",
       "      <th>gender</th>\n",
       "      <th>age</th>\n",
       "      <th>state</th>\n",
       "      <th>city</th>\n",
       "      <th>pincode</th>\n",
       "      <th>date_of_registration</th>\n",
       "      <th>num_dependents</th>\n",
       "      <th>estimated_salary</th>\n",
       "      <th>calls_made</th>\n",
       "      <th>sms_sent</th>\n",
       "      <th>data_used</th>\n",
       "      <th>churn</th>\n",
       "    </tr>\n",
       "  </thead>\n",
       "  <tbody>\n",
       "    <tr>\n",
       "      <th>0</th>\n",
       "      <td>2</td>\n",
       "      <td>0</td>\n",
       "      <td>25</td>\n",
       "      <td>10</td>\n",
       "      <td>4</td>\n",
       "      <td>755597</td>\n",
       "      <td>0</td>\n",
       "      <td>4</td>\n",
       "      <td>124962</td>\n",
       "      <td>44</td>\n",
       "      <td>45</td>\n",
       "      <td>-361</td>\n",
       "      <td>0</td>\n",
       "    </tr>\n",
       "    <tr>\n",
       "      <th>1</th>\n",
       "      <td>2</td>\n",
       "      <td>0</td>\n",
       "      <td>55</td>\n",
       "      <td>16</td>\n",
       "      <td>5</td>\n",
       "      <td>125926</td>\n",
       "      <td>0</td>\n",
       "      <td>2</td>\n",
       "      <td>130556</td>\n",
       "      <td>62</td>\n",
       "      <td>39</td>\n",
       "      <td>5973</td>\n",
       "      <td>0</td>\n",
       "    </tr>\n",
       "    <tr>\n",
       "      <th>2</th>\n",
       "      <td>3</td>\n",
       "      <td>0</td>\n",
       "      <td>57</td>\n",
       "      <td>1</td>\n",
       "      <td>2</td>\n",
       "      <td>423976</td>\n",
       "      <td>0</td>\n",
       "      <td>0</td>\n",
       "      <td>148828</td>\n",
       "      <td>49</td>\n",
       "      <td>24</td>\n",
       "      <td>193</td>\n",
       "      <td>1</td>\n",
       "    </tr>\n",
       "    <tr>\n",
       "      <th>3</th>\n",
       "      <td>1</td>\n",
       "      <td>1</td>\n",
       "      <td>46</td>\n",
       "      <td>22</td>\n",
       "      <td>4</td>\n",
       "      <td>522841</td>\n",
       "      <td>0</td>\n",
       "      <td>1</td>\n",
       "      <td>38722</td>\n",
       "      <td>80</td>\n",
       "      <td>25</td>\n",
       "      <td>9377</td>\n",
       "      <td>1</td>\n",
       "    </tr>\n",
       "    <tr>\n",
       "      <th>4</th>\n",
       "      <td>1</td>\n",
       "      <td>0</td>\n",
       "      <td>26</td>\n",
       "      <td>24</td>\n",
       "      <td>2</td>\n",
       "      <td>740247</td>\n",
       "      <td>0</td>\n",
       "      <td>2</td>\n",
       "      <td>55098</td>\n",
       "      <td>78</td>\n",
       "      <td>15</td>\n",
       "      <td>1393</td>\n",
       "      <td>0</td>\n",
       "    </tr>\n",
       "  </tbody>\n",
       "</table>\n",
       "</div>"
      ],
      "text/plain": [
       "   telecom_partner  gender  age  state  city  pincode  date_of_registration  \\\n",
       "0                2       0   25     10     4   755597                     0   \n",
       "1                2       0   55     16     5   125926                     0   \n",
       "2                3       0   57      1     2   423976                     0   \n",
       "3                1       1   46     22     4   522841                     0   \n",
       "4                1       0   26     24     2   740247                     0   \n",
       "\n",
       "   num_dependents  estimated_salary  calls_made  sms_sent  data_used  churn  \n",
       "0               4            124962          44        45       -361      0  \n",
       "1               2            130556          62        39       5973      0  \n",
       "2               0            148828          49        24        193      1  \n",
       "3               1             38722          80        25       9377      1  \n",
       "4               2             55098          78        15       1393      0  "
      ]
     },
     "execution_count": 24,
     "metadata": {},
     "output_type": "execute_result"
    }
   ],
   "source": [
    "data.head()\n"
   ]
  },
  {
   "cell_type": "code",
   "execution_count": null,
   "id": "74085368",
   "metadata": {},
   "outputs": [],
   "source": []
  },
  {
   "cell_type": "code",
   "execution_count": null,
   "id": "b9d7c0f2",
   "metadata": {},
   "outputs": [],
   "source": []
  },
  {
   "cell_type": "code",
   "execution_count": null,
   "id": "b38fdda7",
   "metadata": {},
   "outputs": [],
   "source": []
  },
  {
   "cell_type": "code",
   "execution_count": 25,
   "id": "be7fd93a",
   "metadata": {},
   "outputs": [],
   "source": [
    "from sklearn.model_selection import train_test_split\n",
    "x=data.drop(\"churn\",axis=1)\n",
    "y=data['churn']"
   ]
  },
  {
   "cell_type": "code",
   "execution_count": 26,
   "id": "1f7d6847",
   "metadata": {},
   "outputs": [],
   "source": [
    "x_train,x_test,y_train,y_test=train_test_split(x,y,random_state=1,test_size=0.3)"
   ]
  },
  {
   "cell_type": "code",
   "execution_count": 28,
   "id": "cf632fef",
   "metadata": {},
   "outputs": [],
   "source": [
    "from sklearn.preprocessing import StandardScaler\n",
    "\n",
    "model=StandardScaler()\n",
    "\n",
    "x_train1=pd.DataFrame(model.fit_transform(x_train),columns=x_train.columns)\n",
    "x_test=pd.DataFrame(model.fit_transform(x_test),columns=x_test.columns)"
   ]
  },
  {
   "cell_type": "code",
   "execution_count": 30,
   "id": "c097bc07",
   "metadata": {},
   "outputs": [
    {
     "data": {
      "text/plain": [
       "(170487, 12)"
      ]
     },
     "execution_count": 30,
     "metadata": {},
     "output_type": "execute_result"
    }
   ],
   "source": [
    "x_train1.shape"
   ]
  },
  {
   "cell_type": "code",
   "execution_count": 61,
   "id": "294c5128",
   "metadata": {},
   "outputs": [
    {
     "data": {
      "text/html": [
       "<style>#sk-container-id-2 {color: black;}#sk-container-id-2 pre{padding: 0;}#sk-container-id-2 div.sk-toggleable {background-color: white;}#sk-container-id-2 label.sk-toggleable__label {cursor: pointer;display: block;width: 100%;margin-bottom: 0;padding: 0.3em;box-sizing: border-box;text-align: center;}#sk-container-id-2 label.sk-toggleable__label-arrow:before {content: \"▸\";float: left;margin-right: 0.25em;color: #696969;}#sk-container-id-2 label.sk-toggleable__label-arrow:hover:before {color: black;}#sk-container-id-2 div.sk-estimator:hover label.sk-toggleable__label-arrow:before {color: black;}#sk-container-id-2 div.sk-toggleable__content {max-height: 0;max-width: 0;overflow: hidden;text-align: left;background-color: #f0f8ff;}#sk-container-id-2 div.sk-toggleable__content pre {margin: 0.2em;color: black;border-radius: 0.25em;background-color: #f0f8ff;}#sk-container-id-2 input.sk-toggleable__control:checked~div.sk-toggleable__content {max-height: 200px;max-width: 100%;overflow: auto;}#sk-container-id-2 input.sk-toggleable__control:checked~label.sk-toggleable__label-arrow:before {content: \"▾\";}#sk-container-id-2 div.sk-estimator input.sk-toggleable__control:checked~label.sk-toggleable__label {background-color: #d4ebff;}#sk-container-id-2 div.sk-label input.sk-toggleable__control:checked~label.sk-toggleable__label {background-color: #d4ebff;}#sk-container-id-2 input.sk-hidden--visually {border: 0;clip: rect(1px 1px 1px 1px);clip: rect(1px, 1px, 1px, 1px);height: 1px;margin: -1px;overflow: hidden;padding: 0;position: absolute;width: 1px;}#sk-container-id-2 div.sk-estimator {font-family: monospace;background-color: #f0f8ff;border: 1px dotted black;border-radius: 0.25em;box-sizing: border-box;margin-bottom: 0.5em;}#sk-container-id-2 div.sk-estimator:hover {background-color: #d4ebff;}#sk-container-id-2 div.sk-parallel-item::after {content: \"\";width: 100%;border-bottom: 1px solid gray;flex-grow: 1;}#sk-container-id-2 div.sk-label:hover label.sk-toggleable__label {background-color: #d4ebff;}#sk-container-id-2 div.sk-serial::before {content: \"\";position: absolute;border-left: 1px solid gray;box-sizing: border-box;top: 0;bottom: 0;left: 50%;z-index: 0;}#sk-container-id-2 div.sk-serial {display: flex;flex-direction: column;align-items: center;background-color: white;padding-right: 0.2em;padding-left: 0.2em;position: relative;}#sk-container-id-2 div.sk-item {position: relative;z-index: 1;}#sk-container-id-2 div.sk-parallel {display: flex;align-items: stretch;justify-content: center;background-color: white;position: relative;}#sk-container-id-2 div.sk-item::before, #sk-container-id-2 div.sk-parallel-item::before {content: \"\";position: absolute;border-left: 1px solid gray;box-sizing: border-box;top: 0;bottom: 0;left: 50%;z-index: -1;}#sk-container-id-2 div.sk-parallel-item {display: flex;flex-direction: column;z-index: 1;position: relative;background-color: white;}#sk-container-id-2 div.sk-parallel-item:first-child::after {align-self: flex-end;width: 50%;}#sk-container-id-2 div.sk-parallel-item:last-child::after {align-self: flex-start;width: 50%;}#sk-container-id-2 div.sk-parallel-item:only-child::after {width: 0;}#sk-container-id-2 div.sk-dashed-wrapped {border: 1px dashed gray;margin: 0 0.4em 0.5em 0.4em;box-sizing: border-box;padding-bottom: 0.4em;background-color: white;}#sk-container-id-2 div.sk-label label {font-family: monospace;font-weight: bold;display: inline-block;line-height: 1.2em;}#sk-container-id-2 div.sk-label-container {text-align: center;}#sk-container-id-2 div.sk-container {/* jupyter's `normalize.less` sets `[hidden] { display: none; }` but bootstrap.min.css set `[hidden] { display: none !important; }` so we also need the `!important` here to be able to override the default hidden behavior on the sphinx rendered scikit-learn.org. See: https://github.com/scikit-learn/scikit-learn/issues/21755 */display: inline-block !important;position: relative;}#sk-container-id-2 div.sk-text-repr-fallback {display: none;}</style><div id=\"sk-container-id-2\" class=\"sk-top-container\"><div class=\"sk-text-repr-fallback\"><pre>LogisticRegression()</pre><b>In a Jupyter environment, please rerun this cell to show the HTML representation or trust the notebook. <br />On GitHub, the HTML representation is unable to render, please try loading this page with nbviewer.org.</b></div><div class=\"sk-container\" hidden><div class=\"sk-item\"><div class=\"sk-estimator sk-toggleable\"><input class=\"sk-toggleable__control sk-hidden--visually\" id=\"sk-estimator-id-2\" type=\"checkbox\" checked><label for=\"sk-estimator-id-2\" class=\"sk-toggleable__label sk-toggleable__label-arrow\">LogisticRegression</label><div class=\"sk-toggleable__content\"><pre>LogisticRegression()</pre></div></div></div></div></div>"
      ],
      "text/plain": [
       "LogisticRegression()"
      ]
     },
     "execution_count": 61,
     "metadata": {},
     "output_type": "execute_result"
    }
   ],
   "source": [
    "from sklearn.linear_model import LogisticRegression\n",
    "\n",
    "classifier7 = LogisticRegression()\n",
    "classifier7.fit(x_train,y_train)`"
   ]
  },
  {
   "cell_type": "code",
   "execution_count": 63,
   "id": "3d2a1b80",
   "metadata": {},
   "outputs": [
    {
     "name": "stdout",
     "output_type": "stream",
     "text": [
      "accuracy  0.49911039334300494\n"
     ]
    }
   ],
   "source": [
    "from sklearn.linear_model import LogisticRegression\n",
    "\n",
    "classifier = LogisticRegression()\n",
    "classifier.fit(x_train,y_train)\n",
    "\n",
    "print(\"accuracy \",classifier.score(x_test,y_test))"
   ]
  },
  {
   "cell_type": "code",
   "execution_count": 56,
   "id": "f905d303",
   "metadata": {},
   "outputs": [
    {
     "data": {
      "text/plain": [
       "0.7997290121260231"
      ]
     },
     "execution_count": 56,
     "metadata": {},
     "output_type": "execute_result"
    }
   ],
   "source": [
    "from sklearn.ensemble import RandomForestClassifier\n",
    "classifier_rf = RandomForestClassifier(random_state=42, n_jobs=-1, max_depth=5,\n",
    "                                       n_estimators=100, oob_score=True)\n",
    "\n",
    "classifier_rf.fit(x_train , y_train)\n",
    "\n",
    "\n",
    "classifier_rf.score(x_test,y_test)"
   ]
  },
  {
   "cell_type": "code",
   "execution_count": 58,
   "id": "a6473463",
   "metadata": {},
   "outputs": [
    {
     "data": {
      "text/plain": [
       "Text(33.0, 0.5, 'Truth')"
      ]
     },
     "execution_count": 58,
     "metadata": {},
     "output_type": "execute_result"
    },
    {
     "data": {
      "image/png": "[encoded data removed]",
      "text/plain": [
       "<Figure size 432x288 with 2 Axes>"
      ]
     },
     "metadata": {
      "needs_background": "light"
     },
     "output_type": "display_data"
    }
   ],
   "source": [
    "#confusion matrix\n",
    "sns.heatmap(confusion_matrix(y_test, y_pred),annot=True)\n",
    "plt.xlabel('Predicted')\n",
    "plt.ylabel('Truth')"
   ]
  },
  {
   "cell_type": "code",
   "execution_count": null,
   "id": "592daf4d",
   "metadata": {},
   "outputs": [],
   "source": []
  },
  {
   "cell_type": "code",
   "execution_count": null,
   "id": "a3b449a8",
   "metadata": {},
   "outputs": [],
   "source": []
  }
 ],
 "metadata": {
  "kernelspec": {
   "display_name": "Python 3 (ipykernel)",
   "language": "python",
   "name": "python3"
  },
  "language_info": {
   "codemirror_mode": {
    "name": "ipython",
    "version": 3
   },
   "file_extension": ".py",
   "mimetype": "text/x-python",
   "name": "python",
   "nbconvert_exporter": "python",
   "pygments_lexer": "ipython3",
   "version": "3.9.12"
  }
 },
 "nbformat": 4,
 "nbformat_minor": 5
}
